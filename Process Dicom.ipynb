{
 "cells": [
  {
   "cell_type": "code",
   "execution_count": null,
   "metadata": {},
   "outputs": [],
   "source": [
    "from process_dicom import *\n",
    "from ipywidgets import IntProgress\n",
    "from IPython.display import display"
   ]
  },
  {
   "cell_type": "code",
   "execution_count": null,
   "metadata": {},
   "outputs": [],
   "source": [
    "spath = r'G:\\Data'\n",
    "fpath = r'D:\\Data\\MILDBL_ANON'\n",
    "\n",
    "ids = os.listdir(fpath)\n",
    "completed = os.listdir(spath)"
   ]
  },
  {
   "cell_type": "code",
   "execution_count": null,
   "metadata": {},
   "outputs": [],
   "source": [
    "\"Completed: {}\".format(len(completed))"
   ]
  },
  {
   "cell_type": "code",
   "execution_count": null,
   "metadata": {},
   "outputs": [],
   "source": [
    "f = IntProgress(min=0, max=len(ids)) # instantiate the bar\n",
    "display(f) # display the bar   \n",
    "    \n",
    "for id in ids:\n",
    "    \n",
    "    f.value += 1 # signal to increment the progress bar\n",
    "    \n",
    "    if id in completed:\n",
    "        continue\n",
    "    id_path = os.path.join(fpath, id)\n",
    "    img, m1, m2, spacing = processLungs(id_path, file_type = '.dcm')\n",
    "    mask = m1 + m2\n",
    "    dmask = process_mask(mask)\n",
    "\n",
    "    img = lumTrans(img)\n",
    "\n",
    "    sav_path = os.path.join(spath, id)\n",
    "    os.makedirs(sav_path)\n",
    "    save_imgs(img, sav_path, type = 'i')\n",
    "    save_imgs(mask, sav_path, type = 'm')"
   ]
  },
  {
   "cell_type": "code",
   "execution_count": null,
   "metadata": {},
   "outputs": [],
   "source": []
  },
  {
   "cell_type": "code",
   "execution_count": null,
   "metadata": {},
   "outputs": [],
   "source": []
  },
  {
   "cell_type": "code",
   "execution_count": null,
   "metadata": {},
   "outputs": [],
   "source": []
  }
 ],
 "metadata": {
  "kernelspec": {
   "display_name": "Python 3",
   "language": "python",
   "name": "python3"
  },
  "language_info": {
   "codemirror_mode": {
    "name": "ipython",
    "version": 3
   },
   "file_extension": ".py",
   "mimetype": "text/x-python",
   "name": "python",
   "nbconvert_exporter": "python",
   "pygments_lexer": "ipython3",
   "version": "3.7.2"
  }
 },
 "nbformat": 4,
 "nbformat_minor": 2
}
