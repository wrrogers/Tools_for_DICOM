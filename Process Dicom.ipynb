{
 "cells": [
  {
   "cell_type": "code",
   "execution_count": 7,
   "metadata": {},
   "outputs": [],
   "source": [
    "from process_dicom import *\n",
    "from ipywidgets import IntProgress\n",
    "from IPython.display import display"
   ]
  },
  {
   "cell_type": "code",
   "execution_count": 2,
   "metadata": {},
   "outputs": [],
   "source": [
    "spath = r'G:\\Data'\n",
    "fpath = r'D:\\Data\\MILDBL_ANON'\n",
    "#true_pos = [[130, 291, 276], [380, 218, 235], [104, 238, 198], [440, 218, 130]]\n",
    "\n",
    "ids = os.listdir(fpath)\n",
    "completed = os.listdir(spath)"
   ]
  },
  {
   "cell_type": "code",
   "execution_count": 5,
   "metadata": {},
   "outputs": [
    {
     "data": {
      "text/plain": [
       "'Completed: 60'"
      ]
     },
     "execution_count": 5,
     "metadata": {},
     "output_type": "execute_result"
    }
   ],
   "source": [
    "\"Completed: {}\".format(len(completed))"
   ]
  },
  {
   "cell_type": "code",
   "execution_count": null,
   "metadata": {},
   "outputs": [
    {
     "data": {
      "application/vnd.jupyter.widget-view+json": {
       "model_id": "fe4fa431f07e4c82ae3dff39167c8ce6",
       "version_major": 2,
       "version_minor": 0
      },
      "text/plain": [
       "IntProgress(value=0, max=2294)"
      ]
     },
     "metadata": {},
     "output_type": "display_data"
    },
    {
     "name": "stdout",
     "output_type": "stream",
     "text": [
      "Processing Lungs at ...\n",
      " D:\\Data\\MILDBL_ANON\\MILD_ - 104AA070745 \n",
      "\n",
      "CT Scan at ...\n",
      " .\\Thorax Lungcare (Adult)\\LungCARE 1.0 B50f - 4 \n",
      "\n",
      "... image and meta data loaded.\n",
      "...... image is shape (373, 512, 512) (512, 512)\n"
     ]
    },
    {
     "name": "stderr",
     "output_type": "stream",
     "text": [
      "C:\\Users\\wrrog\\Istituto dei Tumori\\Nodule Detection\\process_dicom.py:59: RuntimeWarning: invalid value encountered in less\n",
      "  current_bw = scipy.ndimage.filters.gaussian_filter(np.multiply(image[i].astype('float32'), nan_mask), sigma, truncate=2.0) < intensity_th\n",
      "C:\\Users\\wrrog\\Anaconda3\\lib\\site-packages\\skimage\\measure\\_regionprops.py:250: UserWarning: regionprops and image moments (including moments, normalized moments, central moments, and inertia tensor) of 2D images will change from xy coordinates to rc coordinates in version 0.16.\n",
      "See http://scikit-image.org/docs/0.14.x/release_notes_and_installation.html#deprecations for details on how to avoid this message.\n",
      "  warn(XY_TO_RC_DEPRECATION_MESSAGE)\n",
      "C:\\Users\\wrrog\\Anaconda3\\lib\\site-packages\\skimage\\measure\\_regionprops.py:260: UserWarning: regionprops and image moments (including moments, normalized moments, central moments, and inertia tensor) of 2D images will change from xy coordinates to rc coordinates in version 0.16.\n",
      "See http://scikit-image.org/docs/0.14.x/release_notes_and_installation.html#deprecations for details on how to avoid this message.\n",
      "  warn(XY_TO_RC_DEPRECATION_MESSAGE)\n"
     ]
    },
    {
     "name": "stdout",
     "output_type": "stream",
     "text": [
      "... image binarized.\n"
     ]
    }
   ],
   "source": [
    "f = IntProgress(min=0, max=len(ids)) # instantiate the bar\n",
    "display(f) # display the bar   \n",
    "    \n",
    "for id in ids:\n",
    "    \n",
    "    f.value += 1 # signal to increment the progress bar\n",
    "    \n",
    "    if id in completed:\n",
    "        continue\n",
    "    id_path = os.path.join(fpath, id)\n",
    "    img, m1, m2, spacing = processLungs(id_path, file_type = '.dcm')\n",
    "    mask = m1 + m2\n",
    "    dmask = process_mask(mask)\n",
    "\n",
    "    img = lumTrans(img)\n",
    "\n",
    "    sav_path = os.path.join(spath, id)\n",
    "    os.makedirs(sav_path)\n",
    "    save_imgs(img, sav_path, type = 'i')\n",
    "    save_imgs(mask, sav_path, type = 'm')"
   ]
  },
  {
   "cell_type": "code",
   "execution_count": null,
   "metadata": {},
   "outputs": [],
   "source": []
  }
 ],
 "metadata": {
  "kernelspec": {
   "display_name": "Python 3",
   "language": "python",
   "name": "python3"
  },
  "language_info": {
   "codemirror_mode": {
    "name": "ipython",
    "version": 3
   },
   "file_extension": ".py",
   "mimetype": "text/x-python",
   "name": "python",
   "nbconvert_exporter": "python",
   "pygments_lexer": "ipython3",
   "version": "3.7.2"
  }
 },
 "nbformat": 4,
 "nbformat_minor": 2
}
